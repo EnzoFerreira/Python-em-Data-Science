{
  "nbformat": 4,
  "nbformat_minor": 0,
  "metadata": {
    "colab": {
      "provenance": [],
      "authorship_tag": "ABX9TyMi2pzz/gwvuVP0nbmESMxJ"
    },
    "kernelspec": {
      "name": "python3",
      "display_name": "Python 3"
    },
    "language_info": {
      "name": "python"
    }
  },
  "cells": [
    {
      "cell_type": "markdown",
      "source": [
        "# Imports"
      ],
      "metadata": {
        "id": "WU0L84B31N7K"
      }
    },
    {
      "cell_type": "code",
      "source": [
        "import random as randrange\n",
        "import numpy as np\n",
        "import pandas as pd\n",
        "pd.set_option('display.max_rows',10) #regula o número de linhas\n",
        "pd.set_option('display.max_columns',10) #regula o número de colunas"
      ],
      "metadata": {
        "id": "Y-ek5ZAw1ZJ-"
      },
      "execution_count": 9,
      "outputs": []
    },
    {
      "cell_type": "markdown",
      "source": [
        "#Import excel com pandas"
      ],
      "metadata": {
        "id": "u4RLXEGk1jf6"
      }
    },
    {
      "cell_type": "code",
      "source": [
        "df = pd.read_csv('db.csv', sep = ';')\n",
        "df.info() #checar o documento que estamos usando de dados"
      ],
      "metadata": {
        "id": "4lLTOq851z57"
      },
      "execution_count": null,
      "outputs": []
    },
    {
      "cell_type": "markdown",
      "source": [
        "# Tuplas no pandas"
      ],
      "metadata": {
        "id": "prEeSo5p3mBB"
      }
    },
    {
      "cell_type": "code",
      "source": [
        "# Maneiras de criar tupla\n",
        "\n",
        "'Jetta Variant', 'Passat', 'Crossfox', 'DS5' #Tupla com os elementos ja registrados\n",
        "\n",
        "1, 2, 3 #como criar tupla em ordem dos items declarados\n",
        "\n",
        "() #Cria uma tupla vazia"
      ],
      "metadata": {
        "id": "jG4tp8Ix3rGk"
      },
      "execution_count": null,
      "outputs": []
    },
    {
      "cell_type": "markdown",
      "source": [
        "Selecionar items na tupla:"
      ],
      "metadata": {
        "id": "QtikBg8s5H91"
      }
    },
    {
      "cell_type": "code",
      "source": [
        "carros = 'Jetta Variant', 'Passat', 'Crossfox', 'DS5'\n",
        "carros[0]"
      ],
      "metadata": {
        "colab": {
          "base_uri": "https://localhost:8080/",
          "height": 35
        },
        "id": "SdCCM9v55LNP",
        "outputId": "4bd8d20a-c4c6-4a2c-a2bf-b5b097d80db1"
      },
      "execution_count": 17,
      "outputs": [
        {
          "output_type": "execute_result",
          "data": {
            "text/plain": [
              "'Jetta Variant'"
            ],
            "application/vnd.google.colaboratory.intrinsic+json": {
              "type": "string"
            }
          },
          "metadata": {},
          "execution_count": 17
        }
      ]
    },
    {
      "cell_type": "markdown",
      "source": [
        "Iterações nas Tuplas"
      ],
      "metadata": {
        "id": "4K-2H_bQ8EyO"
      }
    },
    {
      "cell_type": "code",
      "source": [
        "carros = 'Jetta Variant', 'Passat', 'Crossfox', 'DS5'\n"
      ],
      "metadata": {
        "id": "Gz5yj8ui8IP0"
      },
      "execution_count": 18,
      "outputs": []
    },
    {
      "cell_type": "code",
      "source": [
        "for i in carros:\n",
        "  print(i)"
      ],
      "metadata": {
        "colab": {
          "base_uri": "https://localhost:8080/"
        },
        "id": "1_uBnFwR8Od_",
        "outputId": "d446175a-a95c-4811-f6be-24ddd57b7471"
      },
      "execution_count": 19,
      "outputs": [
        {
          "output_type": "stream",
          "name": "stdout",
          "text": [
            "Jetta Variant\n",
            "Passat\n",
            "Crossfox\n",
            "DS5\n"
          ]
        }
      ]
    },
    {
      "cell_type": "markdown",
      "source": [
        "Desempacotando em tuplas"
      ],
      "metadata": {
        "id": "7MAu0cS18aod"
      }
    },
    {
      "cell_type": "code",
      "source": [
        "carros = 'Jetta Variant', 'Passat', 'Crossfox', 'DS5'\n",
        "carros"
      ],
      "metadata": {
        "id": "LaC6zuZu8e67"
      },
      "execution_count": null,
      "outputs": []
    },
    {
      "cell_type": "code",
      "source": [
        "carro1, carro2, carro3, carro4 = carros\n",
        "#assim assumimos a posição do elemento na tupla com a váriavel nova"
      ],
      "metadata": {
        "id": "Zo2Ic-9n8mxq"
      },
      "execution_count": null,
      "outputs": []
    },
    {
      "cell_type": "markdown",
      "source": [
        "Iterador Zip()"
      ],
      "metadata": {
        "id": "VL6dOw-b9gWR"
      }
    },
    {
      "cell_type": "code",
      "source": [
        "carros = ['Jetta Variant', 'Passat', 'Crossfox', 'DS5']\n",
        "valores = [92347, 23881, 12973, 10284]"
      ],
      "metadata": {
        "id": "rjGhCg1c9nLe"
      },
      "execution_count": 23,
      "outputs": []
    },
    {
      "cell_type": "code",
      "source": [
        "zip(carros, valores)\n",
        "#assimila os elementos de uma lista com base na posição\n",
        "#Jetta[0] e 92347[0]\n",
        "#Passat[1] e 23881[1]\n",
        "#Crossfox[2] e 12973[2]\n",
        "#DS5[3] e 10284[3]"
      ],
      "metadata": {
        "colab": {
          "base_uri": "https://localhost:8080/"
        },
        "id": "PMQUkpn79uNm",
        "outputId": "ca277731-5a87-4d43-d921-83e8d1dd0f3b"
      },
      "execution_count": 28,
      "outputs": [
        {
          "output_type": "execute_result",
          "data": {
            "text/plain": [
              "<zip at 0x7f84c0d00680>"
            ]
          },
          "metadata": {},
          "execution_count": 28
        }
      ]
    },
    {
      "cell_type": "code",
      "source": [
        "for i, j in zip(carros, valores):\n",
        "  if j <= 15000:\n",
        "    print(i)"
      ],
      "metadata": {
        "id": "GBF5TeL--eMZ"
      },
      "execution_count": null,
      "outputs": []
    },
    {
      "cell_type": "markdown",
      "source": [
        "#Dicionários"
      ],
      "metadata": {
        "id": "WotuzLw5_wP-"
      }
    },
    {
      "cell_type": "code",
      "source": [
        "carros = ['Jetta Variant', 'Passat', 'Crossfox', 'DS5']\n",
        "valores = [92347, 23881, 12973, 10284]"
      ],
      "metadata": {
        "id": "3jq1D8fUAgwl"
      },
      "execution_count": 34,
      "outputs": []
    },
    {
      "cell_type": "code",
      "source": [
        "dict(zip(carros, valores))\n",
        "#Mesmo igual da forma manual, o dict é bem usado em listas grandes"
      ],
      "metadata": {
        "colab": {
          "base_uri": "https://localhost:8080/"
        },
        "id": "yeQInwNEA0gl",
        "outputId": "d2abf668-8581-481f-9bf0-d0624448221b"
      },
      "execution_count": 38,
      "outputs": [
        {
          "output_type": "execute_result",
          "data": {
            "text/plain": [
              "{'Jetta Variant': 92347, 'Passat': 23881, 'Crossfox': 12973, 'DS5': 10284}"
            ]
          },
          "metadata": {},
          "execution_count": 38
        }
      ]
    }
  ]
}