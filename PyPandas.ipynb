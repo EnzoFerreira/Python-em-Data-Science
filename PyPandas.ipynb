{
  "nbformat": 4,
  "nbformat_minor": 0,
  "metadata": {
    "colab": {
      "provenance": [],
      "authorship_tag": "ABX9TyO1/qXQzIBhRhQOJU76Tk9u"
    },
    "kernelspec": {
      "name": "python3",
      "display_name": "Python 3"
    },
    "language_info": {
      "name": "python"
    }
  },
  "cells": [
    {
      "cell_type": "markdown",
      "source": [
        "# Imports"
      ],
      "metadata": {
        "id": "WU0L84B31N7K"
      }
    },
    {
      "cell_type": "code",
      "source": [
        "import random as randrange\n",
        "import numpy as np\n",
        "import pandas as pd\n",
        "pd.set_option('display.max_rows',10) #regula o número de linhas\n",
        "pd.set_option('display.max_columns',10) #regula o número de colunas"
      ],
      "metadata": {
        "id": "Y-ek5ZAw1ZJ-"
      },
      "execution_count": null,
      "outputs": []
    },
    {
      "cell_type": "markdown",
      "source": [
        "#Import excel com pandas"
      ],
      "metadata": {
        "id": "u4RLXEGk1jf6"
      }
    },
    {
      "cell_type": "code",
      "source": [
        "df = pd.read_csv('db.csv', sep = ';')\n",
        "df.info() #checar o documento que estamos usando de dados"
      ],
      "metadata": {
        "id": "4lLTOq851z57"
      },
      "execution_count": null,
      "outputs": []
    },
    {
      "cell_type": "markdown",
      "source": [
        "# Tuplas no pandas"
      ],
      "metadata": {
        "id": "prEeSo5p3mBB"
      }
    },
    {
      "cell_type": "code",
      "source": [
        "# Maneiras de criar tupla\n",
        "\n",
        "'Jetta Variant', 'Passat', 'Crossfox', 'DS5' #Tupla com os elementos ja registrados\n",
        "\n",
        "1, 2, 3 #como criar tupla em ordem dos items declarados\n",
        "\n",
        "() #Cria uma tupla vazia"
      ],
      "metadata": {
        "id": "jG4tp8Ix3rGk"
      },
      "execution_count": null,
      "outputs": []
    },
    {
      "cell_type": "markdown",
      "source": [
        "**Selecionar items na tupla:**"
      ],
      "metadata": {
        "id": "QtikBg8s5H91"
      }
    },
    {
      "cell_type": "code",
      "source": [
        "carros = 'Jetta Variant', 'Passat', 'Crossfox', 'DS5'\n",
        "carros[0]"
      ],
      "metadata": {
        "colab": {
          "base_uri": "https://localhost:8080/",
          "height": 35
        },
        "id": "SdCCM9v55LNP",
        "outputId": "4bd8d20a-c4c6-4a2c-a2bf-b5b097d80db1"
      },
      "execution_count": null,
      "outputs": [
        {
          "output_type": "execute_result",
          "data": {
            "text/plain": [
              "'Jetta Variant'"
            ],
            "application/vnd.google.colaboratory.intrinsic+json": {
              "type": "string"
            }
          },
          "metadata": {},
          "execution_count": 17
        }
      ]
    },
    {
      "cell_type": "markdown",
      "source": [
        "**Iterações nas Tuplas**"
      ],
      "metadata": {
        "id": "4K-2H_bQ8EyO"
      }
    },
    {
      "cell_type": "code",
      "source": [
        "carros = 'Jetta Variant', 'Passat', 'Crossfox', 'DS5'\n"
      ],
      "metadata": {
        "id": "Gz5yj8ui8IP0"
      },
      "execution_count": null,
      "outputs": []
    },
    {
      "cell_type": "code",
      "source": [
        "for i in carros:\n",
        "  print(i)"
      ],
      "metadata": {
        "colab": {
          "base_uri": "https://localhost:8080/"
        },
        "id": "1_uBnFwR8Od_",
        "outputId": "d446175a-a95c-4811-f6be-24ddd57b7471"
      },
      "execution_count": null,
      "outputs": [
        {
          "output_type": "stream",
          "name": "stdout",
          "text": [
            "Jetta Variant\n",
            "Passat\n",
            "Crossfox\n",
            "DS5\n"
          ]
        }
      ]
    },
    {
      "cell_type": "markdown",
      "source": [
        "**Desempacotando em tuplas**"
      ],
      "metadata": {
        "id": "7MAu0cS18aod"
      }
    },
    {
      "cell_type": "code",
      "source": [
        "carros = 'Jetta Variant', 'Passat', 'Crossfox', 'DS5'\n",
        "carros"
      ],
      "metadata": {
        "id": "LaC6zuZu8e67"
      },
      "execution_count": null,
      "outputs": []
    },
    {
      "cell_type": "code",
      "source": [
        "carro1, carro2, carro3, carro4 = carros\n",
        "#assim assumimos a posição do elemento na tupla com a váriavel nova"
      ],
      "metadata": {
        "id": "Zo2Ic-9n8mxq"
      },
      "execution_count": null,
      "outputs": []
    },
    {
      "cell_type": "markdown",
      "source": [
        "**Iterador Zip()**"
      ],
      "metadata": {
        "id": "VL6dOw-b9gWR"
      }
    },
    {
      "cell_type": "code",
      "source": [
        "carros = ['Jetta Variant', 'Passat', 'Crossfox', 'DS5']\n",
        "valores = [92347, 23881, 12973, 10284]"
      ],
      "metadata": {
        "id": "rjGhCg1c9nLe"
      },
      "execution_count": null,
      "outputs": []
    },
    {
      "cell_type": "code",
      "source": [
        "zip(carros, valores)\n",
        "#assimila os elementos de uma lista com base na posição\n",
        "#Jetta[0] e 92347[0]\n",
        "#Passat[1] e 23881[1]\n",
        "#Crossfox[2] e 12973[2]\n",
        "#DS5[3] e 10284[3]"
      ],
      "metadata": {
        "colab": {
          "base_uri": "https://localhost:8080/"
        },
        "id": "PMQUkpn79uNm",
        "outputId": "ca277731-5a87-4d43-d921-83e8d1dd0f3b"
      },
      "execution_count": null,
      "outputs": [
        {
          "output_type": "execute_result",
          "data": {
            "text/plain": [
              "<zip at 0x7f84c0d00680>"
            ]
          },
          "metadata": {},
          "execution_count": 28
        }
      ]
    },
    {
      "cell_type": "code",
      "source": [
        "for i, j in zip(carros, valores):\n",
        "  if j <= 15000:\n",
        "    print(i)"
      ],
      "metadata": {
        "id": "GBF5TeL--eMZ"
      },
      "execution_count": null,
      "outputs": []
    },
    {
      "cell_type": "markdown",
      "source": [
        "#Dicionários"
      ],
      "metadata": {
        "id": "WotuzLw5_wP-"
      }
    },
    {
      "cell_type": "code",
      "source": [
        "carros = ['Jetta Variant', 'Passat', 'Crossfox', 'DS5']\n",
        "valores = [92347, 23881, 12973, 10284]"
      ],
      "metadata": {
        "id": "3jq1D8fUAgwl"
      },
      "execution_count": 4,
      "outputs": []
    },
    {
      "cell_type": "code",
      "source": [
        "dados = dict(zip(carros, valores))\n",
        "#Mesmo igual da forma manual, o dict é bem usado em listas grandes"
      ],
      "metadata": {
        "id": "yeQInwNEA0gl"
      },
      "execution_count": 21,
      "outputs": []
    },
    {
      "cell_type": "markdown",
      "source": [
        "***dict[key]***"
      ],
      "metadata": {
        "id": "ZACFEwMhYR-5"
      }
    },
    {
      "cell_type": "code",
      "source": [
        "dados['Passat'] \n",
        "#retorna o elemento pareado com a chave citada"
      ],
      "metadata": {
        "id": "SOMcxjbaYoGt"
      },
      "execution_count": null,
      "outputs": []
    },
    {
      "cell_type": "markdown",
      "source": [
        "**key in dict**"
      ],
      "metadata": {
        "id": "8BYus5xhZK88"
      }
    },
    {
      "cell_type": "code",
      "source": [
        "'Passat' in dados\n",
        "'Ferrari' in dados\n",
        "#Retorna True ou False baseado nos dados da tabela armazenada"
      ],
      "metadata": {
        "id": "HUwQiufWZOjk"
      },
      "execution_count": null,
      "outputs": []
    },
    {
      "cell_type": "markdown",
      "source": [
        "**len(dict)**"
      ],
      "metadata": {
        "id": "sBCPZokfZ7AX"
      }
    },
    {
      "cell_type": "code",
      "source": [
        "len(dados)\n",
        "#retorna o tamanho do dicionario"
      ],
      "metadata": {
        "id": "AEtupydzaAp4"
      },
      "execution_count": null,
      "outputs": []
    },
    {
      "cell_type": "markdown",
      "source": [
        "**dict[key]**"
      ],
      "metadata": {
        "id": "gH8dMzQMaYRS"
      }
    },
    {
      "cell_type": "code",
      "source": [
        "dados['Ferrari'] = 12345\n",
        "dados\n",
        "#adiciona um item novo ao dicionario"
      ],
      "metadata": {
        "id": "x7sBdDYeacFx"
      },
      "execution_count": null,
      "outputs": []
    },
    {
      "cell_type": "markdown",
      "source": [
        "**del dict[key]**"
      ],
      "metadata": {
        "id": "hOdhV_ZUaplo"
      }
    },
    {
      "cell_type": "code",
      "source": [
        "del dados['Passat']\n",
        "dados\n",
        "#retorna o dicionario, porem removendo a chave declarada"
      ],
      "metadata": {
        "id": "T_7nH_EGau86"
      },
      "execution_count": null,
      "outputs": []
    },
    {
      "cell_type": "markdown",
      "source": [
        "**dict.update()**"
      ],
      "metadata": {
        "id": "gd_XTt1ubqRf"
      }
    },
    {
      "cell_type": "code",
      "source": [
        "dados.update({'Passat': 12973})\n",
        "dados\n",
        "#Adiciona(ou atualiza) um elemento no dicionario "
      ],
      "metadata": {
        "id": "8oTf8mzGbvr7"
      },
      "execution_count": null,
      "outputs": []
    },
    {
      "cell_type": "markdown",
      "source": [
        "**dict.copy()**"
      ],
      "metadata": {
        "id": "Jl5iqMd8eLy9"
      }
    },
    {
      "cell_type": "code",
      "source": [
        "dadosCopy = dados.copy()\n",
        "dadosCopy\n",
        "#Cria uma copia do dicionario em que não é alterado na lista anterior "
      ],
      "metadata": {
        "id": "sX42opOIePeq"
      },
      "execution_count": null,
      "outputs": []
    },
    {
      "cell_type": "markdown",
      "source": [
        "**dict.pop(key[,default])**"
      ],
      "metadata": {
        "id": "glYV_ecuefsN"
      }
    },
    {
      "cell_type": "code",
      "source": [
        "dadosCopy.pop('Passat')\n",
        "#Elimina o elemento declarado e retorna o valor dele"
      ],
      "metadata": {
        "id": "Ta6H0MwNel9_"
      },
      "execution_count": null,
      "outputs": []
    },
    {
      "cell_type": "code",
      "source": [
        "dadosCopy.pop('Passat','Não encontado')\n",
        "#Retona mensagem caso não tenha o elemento a deletar"
      ],
      "metadata": {
        "id": "qb04pOIzeykt"
      },
      "execution_count": null,
      "outputs": []
    },
    {
      "cell_type": "markdown",
      "source": [
        "**dict.clear()**"
      ],
      "metadata": {
        "id": "uhuN7Suke_Oa"
      }
    },
    {
      "cell_type": "code",
      "source": [
        "dadosCopy.clear()\n",
        "dadosCopy\n",
        "#limpa o dicionario"
      ],
      "metadata": {
        "id": "Yd2nKkNwfCTl"
      },
      "execution_count": null,
      "outputs": []
    },
    {
      "cell_type": "markdown",
      "source": [
        "**Dict.keys()**"
      ],
      "metadata": {
        "id": "Tdi2oozyl6OR"
      }
    },
    {
      "cell_type": "code",
      "source": [
        "dados.keys()\n",
        "#Essa iteração retorna as chaves do dicionario\n",
        "#ou\n",
        "for i in dados.keys():\n",
        "  print(dados[i])\n",
        "#essa retorna os assimilados as chaves do dicionario"
      ],
      "metadata": {
        "id": "Kt2FDebal_qg"
      },
      "execution_count": null,
      "outputs": []
    },
    {
      "cell_type": "markdown",
      "source": [
        "**dict.values()**"
      ],
      "metadata": {
        "id": "EM81TURemxcK"
      }
    },
    {
      "cell_type": "code",
      "source": [
        "dados.values()\n",
        "#mais pratico do que acima, retorna os valores assimilados"
      ],
      "metadata": {
        "colab": {
          "base_uri": "https://localhost:8080/"
        },
        "id": "_U-ms0dbm0a7",
        "outputId": "722acd24-a7bf-4d69-8041-86cc9892c87b"
      },
      "execution_count": 27,
      "outputs": [
        {
          "output_type": "execute_result",
          "data": {
            "text/plain": [
              "dict_values([92347, 23881, 12973, 10284])"
            ]
          },
          "metadata": {},
          "execution_count": 27
        }
      ]
    },
    {
      "cell_type": "markdown",
      "source": [
        "**dict.items**"
      ],
      "metadata": {
        "id": "Q6ailqRBm-fo"
      }
    },
    {
      "cell_type": "code",
      "source": [
        "dados.items()\n",
        "#Cria tuplas usando as chaves e valores"
      ],
      "metadata": {
        "colab": {
          "base_uri": "https://localhost:8080/"
        },
        "id": "6ddzksB0nBf8",
        "outputId": "9df5a929-df8f-42e8-c4e9-6e4552ae9b0d"
      },
      "execution_count": 28,
      "outputs": [
        {
          "output_type": "execute_result",
          "data": {
            "text/plain": [
              "dict_items([('Jetta Variant', 92347), ('Passat', 23881), ('Crossfox', 12973), ('DS5', 10284)])"
            ]
          },
          "metadata": {},
          "execution_count": 28
        }
      ]
    }
  ]
}