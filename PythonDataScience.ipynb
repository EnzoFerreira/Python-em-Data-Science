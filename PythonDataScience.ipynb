{
  "nbformat": 4,
  "nbformat_minor": 0,
  "metadata": {
    "colab": {
      "provenance": [],
      "authorship_tag": "ABX9TyNyt0XlrCTLcF/MraGqyTMy"
    },
    "kernelspec": {
      "name": "python3",
      "display_name": "Python 3"
    },
    "language_info": {
      "name": "python"
    }
  },
  "cells": [
    {
      "cell_type": "markdown",
      "source": [
        "#Imports\n",
        "\n",
        "  "
      ],
      "metadata": {
        "id": "9fKXj0O3inaK"
      }
    },
    {
      "cell_type": "code",
      "source": [
        "from random import randrange, seed   #numero random\n",
        "import matplotlib.pyplot as plt     #para usar grafico\n"
      ],
      "metadata": {
        "id": "zHgjEglMirh6"
      },
      "execution_count": null,
      "outputs": []
    },
    {
      "cell_type": "markdown",
      "source": [
        "# Código notas"
      ],
      "metadata": {
        "id": "VBNSFaB0oQIT"
      }
    },
    {
      "cell_type": "code",
      "source": [
        "seed(11)"
      ],
      "metadata": {
        "id": "Qn92XsrboUAG"
      },
      "execution_count": null,
      "outputs": []
    },
    {
      "cell_type": "code",
      "source": [
        "randrange(0,11)"
      ],
      "metadata": {
        "id": "U4LKB5hCoXDX",
        "outputId": "3dbb6c39-f4de-4062-c66c-ae87d50989df",
        "colab": {
          "base_uri": "https://localhost:8080/"
        }
      },
      "execution_count": null,
      "outputs": [
        {
          "output_type": "execute_result",
          "data": {
            "text/plain": [
              "7"
            ]
          },
          "metadata": {},
          "execution_count": 7
        }
      ]
    },
    {
      "cell_type": "code",
      "source": [
        "notas_mat = []\n",
        "\n",
        "for i in range(8):\n",
        "  notas_mat.append(randrange(0,11))\n",
        "notas_mat"
      ],
      "metadata": {
        "id": "UUb2YYquoZ4w",
        "outputId": "91077a1e-a71e-4fec-afac-ce810ebc40e1",
        "colab": {
          "base_uri": "https://localhost:8080/"
        }
      },
      "execution_count": null,
      "outputs": [
        {
          "output_type": "execute_result",
          "data": {
            "text/plain": [
              "[1, 8, 10, 0, 9, 6, 7, 10]"
            ]
          },
          "metadata": {},
          "execution_count": 17
        }
      ]
    },
    {
      "cell_type": "code",
      "source": [
        "len(notas_mat)"
      ],
      "metadata": {
        "id": "pDkpF-n2tjh5"
      },
      "execution_count": null,
      "outputs": []
    },
    {
      "cell_type": "markdown",
      "source": [
        "#matplot e grafico"
      ],
      "metadata": {
        "id": "ZERVEkvDtpKe"
      }
    },
    {
      "cell_type": "code",
      "source": [
        "x = list(range(1,9))\n",
        "y = notas_mat\n",
        "\n",
        "plt.plot(x, y, marker = 'o') #puxa os parametros que serão usados no gráfico e inclui o  marcador no gráfico\n",
        "plt.title('Notas de Matemática') #Titulo no gráfico\n",
        "plt.xlabel('Provas') #anotação na parte horizontal\n",
        "plt.ylabel('Notas') #anotação na parte vertical\n",
        "plt.show() #imprime p gráfico"
      ],
      "metadata": {
        "id": "S_1mfCXDtsZN",
        "outputId": "3c0a65eb-c556-4921-d979-734a71757fd2",
        "colab": {
          "base_uri": "https://localhost:8080/",
          "height": 295
        }
      },
      "execution_count": null,
      "outputs": [
        {
          "output_type": "display_data",
          "data": {
            "text/plain": [
              "<Figure size 432x288 with 1 Axes>"
            ],
            "image/png": "[encoded data removed]"
          },
          "metadata": {
            "needs_background": "light"
          }
        }
      ]
    },
    {
      "cell_type": "code",
      "source": [],
      "metadata": {
        "id": "1nu6keYxuXj9"
      },
      "execution_count": null,
      "outputs": []
    }
  ]
}